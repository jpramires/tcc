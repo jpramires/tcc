{
 "cells": [
  {
   "cell_type": "markdown",
   "id": "0611900e-d6a8-47b1-8ca9-3a74a5c52296",
   "metadata": {},
   "source": [
    "## Início"
   ]
  },
  {
   "cell_type": "code",
   "execution_count": 1,
   "id": "b3b40044-04e9-441f-82eb-1d5bb3e15282",
   "metadata": {
    "execution": {
     "iopub.execute_input": "2025-02-25T23:31:10.401561Z",
     "iopub.status.busy": "2025-02-25T23:31:10.401396Z",
     "iopub.status.idle": "2025-02-25T23:31:10.403979Z",
     "shell.execute_reply": "2025-02-25T23:31:10.403506Z",
     "shell.execute_reply.started": "2025-02-25T23:31:10.401547Z"
    },
    "scrolled": true
   },
   "outputs": [],
   "source": [
    "import os\n",
    "import re\n",
    "import pickle"
   ]
  },
  {
   "cell_type": "code",
   "execution_count": 2,
   "id": "cffcbe17-eada-4868-aae6-79fe6652bf0f",
   "metadata": {
    "execution": {
     "iopub.execute_input": "2025-02-25T23:31:10.404608Z",
     "iopub.status.busy": "2025-02-25T23:31:10.404442Z",
     "iopub.status.idle": "2025-02-25T23:31:11.895511Z",
     "shell.execute_reply": "2025-02-25T23:31:11.894948Z",
     "shell.execute_reply.started": "2025-02-25T23:31:10.404593Z"
    },
    "scrolled": true
   },
   "outputs": [],
   "source": [
    "import numpy as np\n",
    "import pandas as pd\n",
    "import seaborn as sns"
   ]
  },
  {
   "cell_type": "code",
   "execution_count": 3,
   "id": "b32950a3-4823-46d0-a668-dc60624e6530",
   "metadata": {
    "execution": {
     "iopub.execute_input": "2025-02-25T23:31:11.896224Z",
     "iopub.status.busy": "2025-02-25T23:31:11.895916Z",
     "iopub.status.idle": "2025-02-25T23:31:11.899101Z",
     "shell.execute_reply": "2025-02-25T23:31:11.898607Z",
     "shell.execute_reply.started": "2025-02-25T23:31:11.896207Z"
    },
    "scrolled": true
   },
   "outputs": [],
   "source": [
    "import matplotlib.pyplot as plt"
   ]
  },
  {
   "cell_type": "code",
   "execution_count": 4,
   "id": "342f972e-fcc0-4fb0-8986-77e38b03c3a2",
   "metadata": {
    "execution": {
     "iopub.execute_input": "2025-02-25T23:31:11.899862Z",
     "iopub.status.busy": "2025-02-25T23:31:11.899582Z",
     "iopub.status.idle": "2025-02-25T23:31:11.918449Z",
     "shell.execute_reply": "2025-02-25T23:31:11.917105Z",
     "shell.execute_reply.started": "2025-02-25T23:31:11.899846Z"
    },
    "scrolled": true
   },
   "outputs": [
    {
     "name": "stdout",
     "output_type": "stream",
     "text": [
      "Exception reporting mode: Verbose\n"
     ]
    }
   ],
   "source": [
    "%matplotlib inline\n",
    "%xmode verbose"
   ]
  },
  {
   "cell_type": "code",
   "execution_count": 5,
   "id": "5b8253f7-8407-40cc-9775-b584fa815fe9",
   "metadata": {
    "execution": {
     "iopub.execute_input": "2025-02-25T23:31:11.921045Z",
     "iopub.status.busy": "2025-02-25T23:31:11.920531Z",
     "iopub.status.idle": "2025-02-25T23:31:11.933539Z",
     "shell.execute_reply": "2025-02-25T23:31:11.932011Z",
     "shell.execute_reply.started": "2025-02-25T23:31:11.921000Z"
    }
   },
   "outputs": [],
   "source": [
    "%config InlineBackend.figure_format='retina'"
   ]
  },
  {
   "cell_type": "code",
   "execution_count": 6,
   "id": "cbc3c8fd-6ca8-49a0-b7db-ed82f21eda8a",
   "metadata": {
    "execution": {
     "iopub.execute_input": "2025-02-25T23:31:11.938368Z",
     "iopub.status.busy": "2025-02-25T23:31:11.937847Z",
     "iopub.status.idle": "2025-02-25T23:31:11.944402Z",
     "shell.execute_reply": "2025-02-25T23:31:11.943209Z",
     "shell.execute_reply.started": "2025-02-25T23:31:11.938324Z"
    },
    "scrolled": true
   },
   "outputs": [],
   "source": [
    "pd.set_option(\"styler.format.thousands\", \",\")\n",
    "from IPython.core.interactiveshell import InteractiveShell\n",
    "InteractiveShell.ast_node_interactivity = \"last_expr_or_assign\""
   ]
  },
  {
   "cell_type": "code",
   "execution_count": 7,
   "id": "be1cda71-d839-4b9e-a137-cb8a30cb90da",
   "metadata": {
    "execution": {
     "iopub.execute_input": "2025-02-25T23:31:11.946693Z",
     "iopub.status.busy": "2025-02-25T23:31:11.945931Z",
     "iopub.status.idle": "2025-02-25T23:31:11.952331Z",
     "shell.execute_reply": "2025-02-25T23:31:11.950960Z",
     "shell.execute_reply.started": "2025-02-25T23:31:11.946649Z"
    }
   },
   "outputs": [],
   "source": [
    "import warnings\n",
    "warnings.filterwarnings('ignore')"
   ]
  },
  {
   "cell_type": "code",
   "execution_count": 8,
   "id": "c186677b-034b-467c-a132-9d9c7bc35a60",
   "metadata": {
    "execution": {
     "iopub.execute_input": "2025-02-25T23:31:11.954188Z",
     "iopub.status.busy": "2025-02-25T23:31:11.953758Z",
     "iopub.status.idle": "2025-02-25T23:31:12.450216Z",
     "shell.execute_reply": "2025-02-25T23:31:12.449766Z",
     "shell.execute_reply.started": "2025-02-25T23:31:11.954141Z"
    },
    "scrolled": true
   },
   "outputs": [
    {
     "data": {
      "text/html": [
       "<details>\n",
       "<summary>Click to view session information</summary>\n",
       "<pre>\n",
       "-----\n",
       "matplotlib          3.10.0\n",
       "numpy               2.1.3\n",
       "pandas              2.2.3\n",
       "seaborn             0.13.2\n",
       "session_info        1.0.0\n",
       "-----\n",
       "</pre>\n",
       "<details>\n",
       "<summary>Click to view modules imported as dependencies</summary>\n",
       "<pre>\n",
       "PIL                         11.1.0\n",
       "anyio                       NA\n",
       "arrow                       1.3.0\n",
       "asttokens                   NA\n",
       "attr                        25.1.0\n",
       "attrs                       25.1.0\n",
       "babel                       2.17.0\n",
       "bottleneck                  1.4.2\n",
       "certifi                     2025.01.31\n",
       "charset_normalizer          3.4.1\n",
       "comm                        0.2.2\n",
       "cycler                      0.12.1\n",
       "cython_runtime              NA\n",
       "dateutil                    2.9.0.post0\n",
       "debugpy                     1.8.12\n",
       "decorator                   5.1.1\n",
       "defusedxml                  0.7.1\n",
       "executing                   2.2.0\n",
       "fastjsonschema              NA\n",
       "fqdn                        NA\n",
       "idna                        3.10\n",
       "ipykernel                   6.29.5\n",
       "ipywidgets                  8.1.5\n",
       "isoduration                 NA\n",
       "jedi                        0.19.2\n",
       "jinja2                      3.1.5\n",
       "json5                       0.10.0\n",
       "jsonpointer                 3.0.0\n",
       "jsonschema                  4.23.0\n",
       "jsonschema_specifications   NA\n",
       "jupyter_events              0.12.0\n",
       "jupyter_server              2.15.0\n",
       "jupyterlab_server           2.27.3\n",
       "kiwisolver                  1.4.8\n",
       "markupsafe                  3.0.2\n",
       "matplotlib_inline           0.1.7\n",
       "mpl_toolkits                NA\n",
       "nbformat                    5.10.4\n",
       "numexpr                     2.10.2\n",
       "overrides                   NA\n",
       "packaging                   24.2\n",
       "parso                       0.8.4\n",
       "patsy                       1.0.1\n",
       "platformdirs                4.3.6\n",
       "prometheus_client           NA\n",
       "prompt_toolkit              3.0.50\n",
       "psutil                      6.1.1\n",
       "pure_eval                   0.2.3\n",
       "pyarrow                     19.0.1\n",
       "pydev_ipython               NA\n",
       "pydevconsole                NA\n",
       "pydevd                      3.2.3\n",
       "pydevd_file_utils           NA\n",
       "pydevd_plugins              NA\n",
       "pydevd_tracing              NA\n",
       "pygments                    2.19.1\n",
       "pyparsing                   3.2.1\n",
       "pythonjsonlogger            NA\n",
       "pytz                        2025.1\n",
       "referencing                 NA\n",
       "requests                    2.32.3\n",
       "rfc3339_validator           0.1.4\n",
       "rfc3986_validator           0.1.1\n",
       "rpds                        NA\n",
       "scipy                       1.15.2\n",
       "send2trash                  NA\n",
       "sitecustomize               NA\n",
       "six                         1.17.0\n",
       "sniffio                     1.3.1\n",
       "stack_data                  0.6.3\n",
       "statsmodels                 0.14.4\n",
       "tornado                     6.4.2\n",
       "traitlets                   5.14.3\n",
       "typing_extensions           NA\n",
       "uri_template                NA\n",
       "urllib3                     2.3.0\n",
       "wcwidth                     0.2.13\n",
       "webcolors                   NA\n",
       "websocket                   1.8.0\n",
       "yaml                        6.0.2\n",
       "zmq                         26.2.1\n",
       "zoneinfo                    NA\n",
       "</pre>\n",
       "</details> <!-- seems like this ends pre, so might as well be explicit -->\n",
       "<pre>\n",
       "-----\n",
       "IPython             8.32.0\n",
       "jupyter_client      8.6.3\n",
       "jupyter_core        5.7.2\n",
       "jupyterlab          4.3.5\n",
       "notebook            7.3.2\n",
       "-----\n",
       "Python 3.13.2 (main, Feb  5 2025, 08:49:07) [GCC 9.4.0]\n",
       "Linux-5.4.0-208-generic-x86_64-with-glibc2.31\n",
       "-----\n",
       "Session information updated at 2025-02-25 20:31\n",
       "</pre>\n",
       "</details>"
      ],
      "text/plain": [
       "<IPython.core.display.HTML object>"
      ]
     },
     "execution_count": 8,
     "metadata": {},
     "output_type": "execute_result"
    }
   ],
   "source": [
    "import session_info\n",
    "session_info.show()"
   ]
  },
  {
   "cell_type": "markdown",
   "id": "7d0135f9-b41a-4054-9cfe-5ec6b1436541",
   "metadata": {},
   "source": [
    "## Tamanhos das Classes"
   ]
  },
  {
   "cell_type": "code",
   "execution_count": 9,
   "id": "c34ff4c5-b813-41e1-9c89-b014f85ed284",
   "metadata": {
    "execution": {
     "iopub.execute_input": "2025-02-25T23:31:12.451677Z",
     "iopub.status.busy": "2025-02-25T23:31:12.451449Z",
     "iopub.status.idle": "2025-02-25T23:31:12.455825Z",
     "shell.execute_reply": "2025-02-25T23:31:12.455294Z",
     "shell.execute_reply.started": "2025-02-25T23:31:12.451665Z"
    }
   },
   "outputs": [],
   "source": [
    "if os.path.isfile('pickles/class_names.pkl'):\n",
    "    with open('pickles/class_names.pkl', 'rb') as f:\n",
    "        class_names = pickle.load(f)\n",
    "\n",
    "if os.path.isfile('pickles/class_sizes.pkl'):\n",
    "    with open('pickles/class_sizes.pkl', 'rb') as f:\n",
    "        class_sizes = pickle.load(f)"
   ]
  },
  {
   "cell_type": "code",
   "execution_count": 10,
   "id": "6a97f780-1f74-4d11-aa28-5eb7368b1685",
   "metadata": {
    "execution": {
     "iopub.execute_input": "2025-02-25T23:31:12.456467Z",
     "iopub.status.busy": "2025-02-25T23:31:12.456311Z",
     "iopub.status.idle": "2025-02-25T23:31:12.459062Z",
     "shell.execute_reply": "2025-02-25T23:31:12.458660Z",
     "shell.execute_reply.started": "2025-02-25T23:31:12.456455Z"
    }
   },
   "outputs": [],
   "source": [
    "classes_sizes = dict(zip(class_names, class_sizes))\n",
    "classes_sizes = dict(sorted(classes_sizes.items(), key=lambda item: item[1]));"
   ]
  },
  {
   "cell_type": "code",
   "execution_count": 11,
   "id": "1d628f25-b671-4e43-b2cb-baed56007f3a",
   "metadata": {
    "execution": {
     "iopub.execute_input": "2025-02-25T23:31:12.459640Z",
     "iopub.status.busy": "2025-02-25T23:31:12.459484Z",
     "iopub.status.idle": "2025-02-25T23:31:12.462901Z",
     "shell.execute_reply": "2025-02-25T23:31:12.462498Z",
     "shell.execute_reply.started": "2025-02-25T23:31:12.459629Z"
    }
   },
   "outputs": [],
   "source": [
    "classes_denial = {class_name: class_size for class_name, class_size in classes_sizes.items() if r'DoS' in class_name};"
   ]
  },
  {
   "cell_type": "code",
   "execution_count": 12,
   "id": "74f6d727-112f-43b8-bc73-ac786acde7d7",
   "metadata": {
    "execution": {
     "iopub.execute_input": "2025-02-25T23:31:12.463610Z",
     "iopub.status.busy": "2025-02-25T23:31:12.463284Z",
     "iopub.status.idle": "2025-02-25T23:31:12.467194Z",
     "shell.execute_reply": "2025-02-25T23:31:12.466833Z",
     "shell.execute_reply.started": "2025-02-25T23:31:12.463598Z"
    }
   },
   "outputs": [
    {
     "data": {
      "text/plain": [
       "'Total de linhas de Negação de Serviço: 41,790,136'"
      ]
     },
     "execution_count": 12,
     "metadata": {},
     "output_type": "execute_result"
    }
   ],
   "source": [
    "classes_denial_total_size = sum(classes_denial.values())\n",
    "f\"Total de linhas de Negação de Serviço: {classes_denial_total_size:,}\""
   ]
  },
  {
   "cell_type": "code",
   "execution_count": 13,
   "id": "46cf7f6e-4faf-4e15-835c-5be39077f7fc",
   "metadata": {
    "execution": {
     "iopub.execute_input": "2025-02-25T23:31:12.467844Z",
     "iopub.status.busy": "2025-02-25T23:31:12.467689Z",
     "iopub.status.idle": "2025-02-25T23:31:12.471811Z",
     "shell.execute_reply": "2025-02-25T23:31:12.471416Z",
     "shell.execute_reply.started": "2025-02-25T23:31:12.467833Z"
    }
   },
   "outputs": [
    {
     "data": {
      "text/plain": [
       "'Total de linhas do Resto das Classes: 4,947,130'"
      ]
     },
     "execution_count": 13,
     "metadata": {},
     "output_type": "execute_result"
    }
   ],
   "source": [
    "classes_no_denial = {class_name: class_size for class_name, class_size in classes_sizes.items() if r'DoS' not in class_name}\n",
    "classes_no_denial_total_size = sum(classes_no_denial.values())\n",
    "f\"Total de linhas do Resto das Classes: {classes_no_denial_total_size:,}\""
   ]
  },
  {
   "cell_type": "markdown",
   "id": "13fd07c5-3e8e-4d40-9be7-c32c07f0545e",
   "metadata": {},
   "source": [
    "## Ataques Inclusos (14)"
   ]
  },
  {
   "cell_type": "markdown",
   "id": "4b8e6224-928e-42bc-a8d8-475ea06305f8",
   "metadata": {},
   "source": [
    "- [x] Uploading_Attack\n",
    "- [x] Recon-PingSweep\n",
    "- [x] Backdoor_Malware\n",
    "- [x] XSS\n",
    "- [x] SqlInjection\n",
    "- [x] CommandInjection\n",
    "- [x] BrowserHijacking\n",
    "- [x] DictionaryBruteForce\n",
    "- [x] Recon-PortScan\n",
    "- [x] Recon-OSScan\n",
    "- [x] Recon-HostDiscovery\n",
    "- [x] DNS_Spoofing\n",
    "- [x] MITM-ArpSpoofing\n",
    "- [x] VulnerabilityScan"
   ]
  },
  {
   "cell_type": "markdown",
   "id": "6da9ef36-631b-43c6-8aa1-71d8d4d7fd10",
   "metadata": {},
   "source": [
    "## Ataques Não Inclusos (19)\n",
    "Ataques de Negação de Serviço, de natureza volumétrica"
   ]
  },
  {
   "cell_type": "markdown",
   "id": "b3ae6ac5-53dc-4c05-a6b4-95c0689617dc",
   "metadata": {},
   "source": [
    "- [ ] Mirai-greip_flood\n",
    "- [ ] Mirai-greeth_flood\n",
    "- [ ] Mirai-udpplain\n",
    "- [ ] DDoS-SYN_Flood\n",
    "- [ ] DDoS-RSTFINFLOOD\n",
    "- [ ] DDoS-PSHACK_FLOOD\n",
    "- [ ] DDoS-TCP_Flood\n",
    "- [ ] DDoS-UDP_Flood\n",
    "- [ ] DDoS-ICMP_Flood\n",
    "- [ ] DDoS-HTTP_Flood\n",
    "- [ ] DDoS-SynonymousIP_Flood\n",
    "- [ ] DDoS-UDP_Fragmentation\n",
    "- [ ] DDoS-ACK_Fragmentation\n",
    "- [ ] DDoS-ICMP_Fragmentation\n",
    "- [ ] DDoS-SlowLoris\n",
    "- [ ] DoS-HTTP_Flood\n",
    "- [ ] DoS-SYN_Flood\n",
    "- [ ] DoS-TCP_Flood\n",
    "- [ ] DoS-UDP_Flood"
   ]
  },
  {
   "cell_type": "markdown",
   "id": "3701f18d-b78d-4ada-99d4-c98bafc23b88",
   "metadata": {},
   "source": [
    "---"
   ]
  },
  {
   "cell_type": "markdown",
   "id": "756229ee-333b-438f-ae43-3be57bb3a85a",
   "metadata": {},
   "source": [
    "Caminho dos CSVs"
   ]
  },
  {
   "cell_type": "code",
   "execution_count": 14,
   "id": "4105362f-776a-4dc8-a6b4-986ee55ea5a1",
   "metadata": {
    "execution": {
     "iopub.execute_input": "2025-02-25T23:31:12.472453Z",
     "iopub.status.busy": "2025-02-25T23:31:12.472297Z",
     "iopub.status.idle": "2025-02-25T23:31:12.475588Z",
     "shell.execute_reply": "2025-02-25T23:31:12.475193Z",
     "shell.execute_reply.started": "2025-02-25T23:31:12.472440Z"
    }
   },
   "outputs": [
    {
     "data": {
      "text/plain": [
       "PosixPath('/data/CICIoT2023/CSV')"
      ]
     },
     "execution_count": 14,
     "metadata": {},
     "output_type": "execute_result"
    }
   ],
   "source": [
    "from pathlib import Path\n",
    "PATH = Path(\"/data/CICIoT2023/CSV\")"
   ]
  },
  {
   "cell_type": "markdown",
   "id": "b7c721bf-5601-46b1-be63-e7fbac1a6782",
   "metadata": {},
   "source": [
    "## Números Presentemente"
   ]
  },
  {
   "cell_type": "code",
   "execution_count": 15,
   "id": "f8604c64-cf2d-498d-bbf8-1cda26405bb2",
   "metadata": {
    "execution": {
     "iopub.execute_input": "2025-02-25T23:31:12.476116Z",
     "iopub.status.busy": "2025-02-25T23:31:12.475953Z",
     "iopub.status.idle": "2025-02-25T23:31:12.479553Z",
     "shell.execute_reply": "2025-02-25T23:31:12.479173Z",
     "shell.execute_reply.started": "2025-02-25T23:31:12.476103Z"
    }
   },
   "outputs": [
    {
     "name": "stdout",
     "output_type": "stream",
     "text": [
      "Quantidade de registros de ataque: 1,214,885\n",
      "Quantidade de registros benignos:  1,098,191\n"
     ]
    }
   ],
   "source": [
    "attacks = {'Uploading_Attack': 1252,\n",
    "           'Recon-PingSweep': 2262,\n",
    "           'Backdoor_Malware': 3218,\n",
    "           'XSS': 3846,\n",
    "           'SqlInjection': 5245,\n",
    "           'CommandInjection': 5409,\n",
    "           'BrowserHijacking': 5859,\n",
    "           'DictionaryBruteForce': 13064,\n",
    "           'Recon-PortScan': 82284,\n",
    "           'Recon-OSScan': 98259,\n",
    "           'Recon-HostDiscovery': 134378,\n",
    "           'DNS_Spoofing': 178898,\n",
    "           'VulnerabilityScan': 373351,\n",
    "           'MITM-ArpSpoofing': 307560}\n",
    "print(f\"Quantidade de registros de ataque: {sum(attacks.values()):,}\")\n",
    "print(f\"Quantidade de registros benignos:  {classes_sizes['Benign_Final']:,}\")"
   ]
  },
  {
   "cell_type": "markdown",
   "id": "97e613ec-dbf5-44e8-b3ae-3b20112334ac",
   "metadata": {},
   "source": [
    "---"
   ]
  },
  {
   "cell_type": "markdown",
   "id": "0a519138-b3fb-445c-9e92-e4e0ed5abe1d",
   "metadata": {},
   "source": [
    "## Leitura/Otimização dos Dados"
   ]
  },
  {
   "cell_type": "markdown",
   "id": "b178bf62-8820-439d-9f24-eea10fc625c8",
   "metadata": {},
   "source": [
    "Classes Escolhidas:     `benign` X `attacks`\n",
    "\n",
    "Proporção Escolhidas: `1,098,191` X `1,214,885`"
   ]
  },
  {
   "cell_type": "markdown",
   "id": "ba1f703d-35e2-4110-9c8c-4d233ac27d01",
   "metadata": {},
   "source": [
    "### Path"
   ]
  },
  {
   "cell_type": "code",
   "execution_count": 16,
   "id": "a87aff0e-1c03-4f47-878f-421cb69b5274",
   "metadata": {
    "execution": {
     "iopub.execute_input": "2025-02-25T23:31:12.480111Z",
     "iopub.status.busy": "2025-02-25T23:31:12.479982Z",
     "iopub.status.idle": "2025-02-25T23:31:12.484094Z",
     "shell.execute_reply": "2025-02-25T23:31:12.483686Z",
     "shell.execute_reply.started": "2025-02-25T23:31:12.480100Z"
    }
   },
   "outputs": [],
   "source": [
    "import pathlib\n",
    "PATH = pathlib.Path('/data/CICIoT2023/CSV/');"
   ]
  },
  {
   "cell_type": "code",
   "execution_count": 17,
   "id": "e000da7b-a309-43a8-9d52-5eb3e7f3f623",
   "metadata": {
    "execution": {
     "iopub.execute_input": "2025-02-25T23:31:12.484711Z",
     "iopub.status.busy": "2025-02-25T23:31:12.484560Z",
     "iopub.status.idle": "2025-02-25T23:31:12.488026Z",
     "shell.execute_reply": "2025-02-25T23:31:12.487591Z",
     "shell.execute_reply.started": "2025-02-25T23:31:12.484700Z"
    }
   },
   "outputs": [],
   "source": [
    "def read_data(folder):\n",
    "    csv_files = [f for f in os.listdir(folder) if f.endswith('.csv')]\n",
    "    dfs = []\n",
    "    for file in csv_files:\n",
    "        file_path = os.path.join(folder, file)\n",
    "        df = pd.read_csv(file_path, engine='pyarrow')\n",
    "        dfs.append(df)\n",
    "    return dfs"
   ]
  },
  {
   "cell_type": "markdown",
   "id": "8229502e-8312-4a7b-8a59-73c0248e4834",
   "metadata": {},
   "source": [
    "### Dados Benignos"
   ]
  },
  {
   "cell_type": "code",
   "execution_count": 18,
   "id": "cff930e6-c71d-4388-be4d-81f742757455",
   "metadata": {
    "execution": {
     "iopub.execute_input": "2025-02-25T23:31:12.488546Z",
     "iopub.status.busy": "2025-02-25T23:31:12.488385Z",
     "iopub.status.idle": "2025-02-25T23:31:12.938548Z",
     "shell.execute_reply": "2025-02-25T23:31:12.938161Z",
     "shell.execute_reply.started": "2025-02-25T23:31:12.488535Z"
    }
   },
   "outputs": [
    {
     "data": {
      "text/plain": [
       "'Quantidade de arquivos benign: 4'"
      ]
     },
     "execution_count": 18,
     "metadata": {},
     "output_type": "execute_result"
    }
   ],
   "source": [
    "benign_folder_path =  PATH / 'Benign_Final'\n",
    "dfs_benign = read_data(benign_folder_path)\n",
    "f\"Quantidade de arquivos benign: {len(dfs_benign)}\""
   ]
  },
  {
   "cell_type": "code",
   "execution_count": 19,
   "id": "3e22df65-ecdb-4b50-810f-fb33aa6e1ad8",
   "metadata": {
    "execution": {
     "iopub.execute_input": "2025-02-25T23:31:12.939221Z",
     "iopub.status.busy": "2025-02-25T23:31:12.939045Z",
     "iopub.status.idle": "2025-02-25T23:31:13.067355Z",
     "shell.execute_reply": "2025-02-25T23:31:13.066945Z",
     "shell.execute_reply.started": "2025-02-25T23:31:12.939210Z"
    }
   },
   "outputs": [
    {
     "name": "stdout",
     "output_type": "stream",
     "text": [
      "<class 'pandas.core.frame.DataFrame'>\n",
      "RangeIndex: 1098191 entries, 0 to 1098190\n",
      "Data columns (total 39 columns):\n",
      " #   Column           Non-Null Count    Dtype  \n",
      "---  ------           --------------    -----  \n",
      " 0   Header_Length    1098191 non-null  float64\n",
      " 1   Protocol Type    1098191 non-null  int64  \n",
      " 2   Time_To_Live     1098191 non-null  float64\n",
      " 3   Rate             1098191 non-null  float64\n",
      " 4   fin_flag_number  1098191 non-null  float64\n",
      " 5   syn_flag_number  1098191 non-null  float64\n",
      " 6   rst_flag_number  1098191 non-null  float64\n",
      " 7   psh_flag_number  1098191 non-null  float64\n",
      " 8   ack_flag_number  1098191 non-null  float64\n",
      " 9   ece_flag_number  1098191 non-null  float64\n",
      " 10  cwr_flag_number  1098191 non-null  float64\n",
      " 11  ack_count        1098191 non-null  int64  \n",
      " 12  syn_count        1098191 non-null  int64  \n",
      " 13  fin_count        1098191 non-null  int64  \n",
      " 14  rst_count        1098191 non-null  int64  \n",
      " 15  HTTP             1098191 non-null  float64\n",
      " 16  HTTPS            1098191 non-null  float64\n",
      " 17  DNS              1098191 non-null  float64\n",
      " 18  Telnet           1098191 non-null  float64\n",
      " 19  SMTP             1098191 non-null  float64\n",
      " 20  SSH              1098191 non-null  float64\n",
      " 21  IRC              1098191 non-null  float64\n",
      " 22  TCP              1098191 non-null  float64\n",
      " 23  UDP              1098191 non-null  float64\n",
      " 24  DHCP             1098191 non-null  float64\n",
      " 25  ARP              1098191 non-null  float64\n",
      " 26  ICMP             1098191 non-null  float64\n",
      " 27  IGMP             1098191 non-null  float64\n",
      " 28  IPv              1098191 non-null  float64\n",
      " 29  LLC              1098191 non-null  float64\n",
      " 30  Tot sum          1098191 non-null  int64  \n",
      " 31  Min              1098191 non-null  int64  \n",
      " 32  Max              1098191 non-null  int64  \n",
      " 33  AVG              1098191 non-null  float64\n",
      " 34  Std              1098126 non-null  float64\n",
      " 35  Tot size         1098191 non-null  float64\n",
      " 36  IAT              1098191 non-null  float64\n",
      " 37  Number           1098191 non-null  int64  \n",
      " 38  Variance         1098126 non-null  float64\n",
      "dtypes: float64(30), int64(9)\n",
      "memory usage: 326.8 MB\n"
     ]
    }
   ],
   "source": [
    "df_benign = pd.concat(dfs_benign, ignore_index=True)\n",
    "df_benign.info(memory_usage='deep')"
   ]
  },
  {
   "cell_type": "markdown",
   "id": "dbbe707e-0ce0-4d34-b94d-024408286b09",
   "metadata": {},
   "source": [
    "Os tipos estão muito pesados, `float64` e `int64`. O dataset ocupa muito espaço também (`320MB+`)."
   ]
  },
  {
   "cell_type": "markdown",
   "id": "27a758f9-d789-4315-8b09-6f1f2414792f",
   "metadata": {},
   "source": [
    "### Otimizando a Memória"
   ]
  },
  {
   "cell_type": "markdown",
   "id": "ec4f8485-14fa-49a4-a4c7-0f2521eb17c6",
   "metadata": {},
   "source": [
    "Convertendo os atributos para `snake_case`, além de criar a label `benign`"
   ]
  },
  {
   "cell_type": "code",
   "execution_count": 20,
   "id": "a1beb478-b6a7-4929-bc59-954efea0ff89",
   "metadata": {
    "execution": {
     "iopub.execute_input": "2025-02-25T23:31:13.067960Z",
     "iopub.status.busy": "2025-02-25T23:31:13.067781Z",
     "iopub.status.idle": "2025-02-25T23:31:13.070759Z",
     "shell.execute_reply": "2025-02-25T23:31:13.070208Z",
     "shell.execute_reply.started": "2025-02-25T23:31:13.067948Z"
    }
   },
   "outputs": [],
   "source": [
    "def to_snake_case(name):\n",
    "    return re.sub(r'\\W+', '_', name).lower()"
   ]
  },
  {
   "cell_type": "code",
   "execution_count": 21,
   "id": "26d4a2a2-d5c9-4224-9fa9-74069c12d681",
   "metadata": {
    "execution": {
     "iopub.execute_input": "2025-02-25T23:31:13.072638Z",
     "iopub.status.busy": "2025-02-25T23:31:13.072474Z",
     "iopub.status.idle": "2025-02-25T23:31:13.082753Z",
     "shell.execute_reply": "2025-02-25T23:31:13.082289Z",
     "shell.execute_reply.started": "2025-02-25T23:31:13.072626Z"
    }
   },
   "outputs": [],
   "source": [
    "df_benign.columns = df_benign.columns.to_series().apply(to_snake_case)\n",
    "df_benign['label'] = 'benign'"
   ]
  },
  {
   "cell_type": "markdown",
   "id": "33d81f68-41ba-4ed8-a05e-47ef28b361e6",
   "metadata": {},
   "source": [
    "Encontrar os `dtypes` que minimizam o memory footprint"
   ]
  },
  {
   "cell_type": "code",
   "execution_count": 22,
   "id": "5da2ce09-96d2-4f0c-a865-48cee5c9f561",
   "metadata": {
    "execution": {
     "iopub.execute_input": "2025-02-25T23:31:13.083578Z",
     "iopub.status.busy": "2025-02-25T23:31:13.083369Z",
     "iopub.status.idle": "2025-02-25T23:31:13.087076Z",
     "shell.execute_reply": "2025-02-25T23:31:13.086594Z",
     "shell.execute_reply.started": "2025-02-25T23:31:13.083566Z"
    }
   },
   "outputs": [],
   "source": [
    "def suggest_optimized_dtypes(df):\n",
    "    optimized_dtypes = {}\n",
    "    for column in df.columns:\n",
    "        col_type = df[column].dtype\n",
    "        if pd.api.types.is_integer_dtype(col_type):\n",
    "            min_val, max_val = df[column].min(), df[column].max()\n",
    "            if pd.api.types.is_bool_dtype(df[column]):\n",
    "                optimized_dtypes[column] = np.bool_\n",
    "            else:\n",
    "                optimized_dtypes[column] = {True: np.uint8, False: np.uint16, \n",
    "                                             2: np.uint32, 3: np.uint64}.get(True if min_val >= 0 else False, \n",
    "                                             np.int64 if max_val > np.iinfo(np.uint64).max else np.int32)\n",
    "        elif pd.api.types.is_float_dtype(col_type):\n",
    "            if df[column].between(np.finfo(np.float16).min, np.finfo(np.float16).max).all():\n",
    "                optimized_dtypes[column] = np.float16\n",
    "            elif df[column].between(np.finfo(np.float32).min, np.finfo(np.float32).max).all():\n",
    "                optimized_dtypes[column] = np.float32\n",
    "            else:\n",
    "                optimized_dtypes[column] = np.float64\n",
    "        elif pd.api.types.is_object_dtype(col_type):\n",
    "            optimized_dtypes[column] = 'category'\n",
    "    return optimized_dtypes"
   ]
  },
  {
   "cell_type": "code",
   "execution_count": 23,
   "id": "962e5a89-6063-4adc-9ce3-2f7a569d497c",
   "metadata": {
    "execution": {
     "iopub.execute_input": "2025-02-25T23:31:13.087720Z",
     "iopub.status.busy": "2025-02-25T23:31:13.087498Z",
     "iopub.status.idle": "2025-02-25T23:31:13.165877Z",
     "shell.execute_reply": "2025-02-25T23:31:13.165459Z",
     "shell.execute_reply.started": "2025-02-25T23:31:13.087708Z"
    }
   },
   "outputs": [
    {
     "data": {
      "text/plain": [
       "[('header_length', numpy.float16),\n",
       " ('protocol_type', numpy.uint8),\n",
       " ('time_to_live', numpy.float16),\n",
       " ('rate', numpy.float64),\n",
       " ('fin_flag_number', numpy.float16)]"
      ]
     },
     "execution_count": 23,
     "metadata": {},
     "output_type": "execute_result"
    }
   ],
   "source": [
    "optimized_dtypes = suggest_optimized_dtypes(df_benign)\n",
    "list(optimized_dtypes.items())[:5] "
   ]
  },
  {
   "cell_type": "markdown",
   "id": "e0313745-d476-4cf1-9220-e5fa137ba48f",
   "metadata": {},
   "source": [
    "Aplicar os tipos otimizados"
   ]
  },
  {
   "cell_type": "code",
   "execution_count": 24,
   "id": "0dbb6095-f2b8-45b8-be45-710ac515e064",
   "metadata": {
    "execution": {
     "iopub.execute_input": "2025-02-25T23:31:13.166500Z",
     "iopub.status.busy": "2025-02-25T23:31:13.166333Z",
     "iopub.status.idle": "2025-02-25T23:31:13.453160Z",
     "shell.execute_reply": "2025-02-25T23:31:13.452607Z",
     "shell.execute_reply.started": "2025-02-25T23:31:13.166489Z"
    }
   },
   "outputs": [
    {
     "name": "stdout",
     "output_type": "stream",
     "text": [
      "<class 'pandas.core.frame.DataFrame'>\n",
      "RangeIndex: 1098191 entries, 0 to 1098190\n",
      "Data columns (total 40 columns):\n",
      " #   Column           Non-Null Count    Dtype   \n",
      "---  ------           --------------    -----   \n",
      " 0   header_length    1098191 non-null  float16 \n",
      " 1   protocol_type    1098191 non-null  uint8   \n",
      " 2   time_to_live     1098191 non-null  float16 \n",
      " 3   rate             1098191 non-null  float64 \n",
      " 4   fin_flag_number  1098191 non-null  float16 \n",
      " 5   syn_flag_number  1098191 non-null  float16 \n",
      " 6   rst_flag_number  1098191 non-null  float16 \n",
      " 7   psh_flag_number  1098191 non-null  float16 \n",
      " 8   ack_flag_number  1098191 non-null  float16 \n",
      " 9   ece_flag_number  1098191 non-null  float16 \n",
      " 10  cwr_flag_number  1098191 non-null  float16 \n",
      " 11  ack_count        1098191 non-null  uint8   \n",
      " 12  syn_count        1098191 non-null  uint8   \n",
      " 13  fin_count        1098191 non-null  uint8   \n",
      " 14  rst_count        1098191 non-null  uint8   \n",
      " 15  http             1098191 non-null  float16 \n",
      " 16  https            1098191 non-null  float16 \n",
      " 17  dns              1098191 non-null  float16 \n",
      " 18  telnet           1098191 non-null  float16 \n",
      " 19  smtp             1098191 non-null  float16 \n",
      " 20  ssh              1098191 non-null  float16 \n",
      " 21  irc              1098191 non-null  float16 \n",
      " 22  tcp              1098191 non-null  float16 \n",
      " 23  udp              1098191 non-null  float16 \n",
      " 24  dhcp             1098191 non-null  float16 \n",
      " 25  arp              1098191 non-null  float16 \n",
      " 26  icmp             1098191 non-null  float16 \n",
      " 27  igmp             1098191 non-null  float16 \n",
      " 28  ipv              1098191 non-null  float16 \n",
      " 29  llc              1098191 non-null  float16 \n",
      " 30  tot_sum          1098191 non-null  uint8   \n",
      " 31  min              1098191 non-null  uint8   \n",
      " 32  max              1098191 non-null  uint8   \n",
      " 33  avg              1098191 non-null  float16 \n",
      " 34  std              1098126 non-null  float64 \n",
      " 35  tot_size         1098191 non-null  float16 \n",
      " 36  iat              1098191 non-null  float16 \n",
      " 37  number           1098191 non-null  uint8   \n",
      " 38  variance         1098126 non-null  float64 \n",
      " 39  label            1098191 non-null  category\n",
      "dtypes: category(1), float16(27), float64(3), uint8(9)\n",
      "memory usage: 92.2 MB\n"
     ]
    }
   ],
   "source": [
    "df_benign_optimized = df_benign.astype(optimized_dtypes)\n",
    "df_benign_optimized.info(memory_usage='deep')"
   ]
  },
  {
   "cell_type": "markdown",
   "id": "7c2e87de-2932-436c-8f5e-ad17bd89ba88",
   "metadata": {},
   "source": [
    "Demonstrar a melhora na quantidade de memória utilizada"
   ]
  },
  {
   "cell_type": "code",
   "execution_count": 25,
   "id": "d28a5be3-1da2-48f2-91c4-32d5013d9397",
   "metadata": {
    "execution": {
     "iopub.execute_input": "2025-02-25T23:31:13.454139Z",
     "iopub.status.busy": "2025-02-25T23:31:13.453729Z",
     "iopub.status.idle": "2025-02-25T23:31:13.457161Z",
     "shell.execute_reply": "2025-02-25T23:31:13.456740Z",
     "shell.execute_reply.started": "2025-02-25T23:31:13.454125Z"
    }
   },
   "outputs": [],
   "source": [
    "def calcular_economia_memoria(df):\n",
    "    original_memory = df.memory_usage(deep=True).sum()\n",
    "    optimized_dtypes = suggest_optimized_dtypes(df)\n",
    "    df_optimized = df.astype(optimized_dtypes)\n",
    "    optimized_memory = df_optimized.memory_usage(deep=True).sum()\n",
    "    memory_saved = original_memory - optimized_memory\n",
    "    percentage_saved = (memory_saved / original_memory) * 100\n",
    "    print(f\"Memória original: {original_memory / (1024**2):.2f} MB\")\n",
    "    print(f\"Memória otimizada: {optimized_memory / (1024**2):.2f} MB\")\n",
    "    print(f\"Memória economizada: {memory_saved / (1024**2):.2f} MB ({percentage_saved:.1f}%)\")\n",
    "    return df_optimized, optimized_dtypes"
   ]
  },
  {
   "cell_type": "code",
   "execution_count": 26,
   "id": "53d3d6f5-8177-4443-b818-e630be20da69",
   "metadata": {
    "execution": {
     "iopub.execute_input": "2025-02-25T23:31:13.458805Z",
     "iopub.status.busy": "2025-02-25T23:31:13.457550Z",
     "iopub.status.idle": "2025-02-25T23:31:13.978066Z",
     "shell.execute_reply": "2025-02-25T23:31:13.977635Z",
     "shell.execute_reply.started": "2025-02-25T23:31:13.458792Z"
    }
   },
   "outputs": [
    {
     "name": "stdout",
     "output_type": "stream",
     "text": [
      "Memória original: 384.37 MB\n",
      "Memória otimizada: 92.16 MB\n",
      "Memória economizada: 292.20 MB (76.0%)\n"
     ]
    },
    {
     "data": {
      "text/html": [
       "<div>\n",
       "<style scoped>\n",
       "    .dataframe tbody tr th:only-of-type {\n",
       "        vertical-align: middle;\n",
       "    }\n",
       "\n",
       "    .dataframe tbody tr th {\n",
       "        vertical-align: top;\n",
       "    }\n",
       "\n",
       "    .dataframe thead th {\n",
       "        text-align: right;\n",
       "    }\n",
       "</style>\n",
       "<table border=\"1\" class=\"dataframe\">\n",
       "  <thead>\n",
       "    <tr style=\"text-align: right;\">\n",
       "      <th></th>\n",
       "      <th>header_length</th>\n",
       "      <th>protocol_type</th>\n",
       "      <th>time_to_live</th>\n",
       "      <th>rate</th>\n",
       "      <th>fin_flag_number</th>\n",
       "      <th>syn_flag_number</th>\n",
       "      <th>rst_flag_number</th>\n",
       "      <th>psh_flag_number</th>\n",
       "      <th>ack_flag_number</th>\n",
       "      <th>ece_flag_number</th>\n",
       "      <th>...</th>\n",
       "      <th>tot_sum</th>\n",
       "      <th>min</th>\n",
       "      <th>max</th>\n",
       "      <th>avg</th>\n",
       "      <th>std</th>\n",
       "      <th>tot_size</th>\n",
       "      <th>iat</th>\n",
       "      <th>number</th>\n",
       "      <th>variance</th>\n",
       "      <th>label</th>\n",
       "    </tr>\n",
       "  </thead>\n",
       "  <tbody>\n",
       "    <tr>\n",
       "      <th>0</th>\n",
       "      <td>29.593750</td>\n",
       "      <td>6</td>\n",
       "      <td>114.125</td>\n",
       "      <td>68.738911</td>\n",
       "      <td>0.0</td>\n",
       "      <td>0.0</td>\n",
       "      <td>0.0</td>\n",
       "      <td>0.099976</td>\n",
       "      <td>0.899902</td>\n",
       "      <td>0.0</td>\n",
       "      <td>...</td>\n",
       "      <td>0</td>\n",
       "      <td>66</td>\n",
       "      <td>234</td>\n",
       "      <td>947.000</td>\n",
       "      <td>706.044506</td>\n",
       "      <td>947.000</td>\n",
       "      <td>0.014549</td>\n",
       "      <td>10</td>\n",
       "      <td>4.984988e+05</td>\n",
       "      <td>benign</td>\n",
       "    </tr>\n",
       "    <tr>\n",
       "      <th>1</th>\n",
       "      <td>24.796875</td>\n",
       "      <td>6</td>\n",
       "      <td>149.125</td>\n",
       "      <td>47.628610</td>\n",
       "      <td>0.0</td>\n",
       "      <td>0.0</td>\n",
       "      <td>0.0</td>\n",
       "      <td>0.199951</td>\n",
       "      <td>0.700195</td>\n",
       "      <td>0.0</td>\n",
       "      <td>...</td>\n",
       "      <td>181</td>\n",
       "      <td>66</td>\n",
       "      <td>89</td>\n",
       "      <td>146.125</td>\n",
       "      <td>114.666134</td>\n",
       "      <td>146.125</td>\n",
       "      <td>0.021088</td>\n",
       "      <td>10</td>\n",
       "      <td>1.314832e+04</td>\n",
       "      <td>benign</td>\n",
       "    </tr>\n",
       "    <tr>\n",
       "      <th>2</th>\n",
       "      <td>17.593750</td>\n",
       "      <td>6</td>\n",
       "      <td>156.125</td>\n",
       "      <td>35.455709</td>\n",
       "      <td>0.0</td>\n",
       "      <td>0.0</td>\n",
       "      <td>0.0</td>\n",
       "      <td>0.300049</td>\n",
       "      <td>0.600098</td>\n",
       "      <td>0.0</td>\n",
       "      <td>...</td>\n",
       "      <td>163</td>\n",
       "      <td>60</td>\n",
       "      <td>234</td>\n",
       "      <td>323.500</td>\n",
       "      <td>434.414868</td>\n",
       "      <td>323.500</td>\n",
       "      <td>0.028641</td>\n",
       "      <td>10</td>\n",
       "      <td>1.887163e+05</td>\n",
       "      <td>benign</td>\n",
       "    </tr>\n",
       "    <tr>\n",
       "      <th>3</th>\n",
       "      <td>24.796875</td>\n",
       "      <td>6</td>\n",
       "      <td>91.125</td>\n",
       "      <td>68.694442</td>\n",
       "      <td>0.0</td>\n",
       "      <td>0.0</td>\n",
       "      <td>0.0</td>\n",
       "      <td>0.099976</td>\n",
       "      <td>0.700195</td>\n",
       "      <td>0.0</td>\n",
       "      <td>...</td>\n",
       "      <td>192</td>\n",
       "      <td>66</td>\n",
       "      <td>58</td>\n",
       "      <td>1222.000</td>\n",
       "      <td>1347.199581</td>\n",
       "      <td>1222.000</td>\n",
       "      <td>0.014748</td>\n",
       "      <td>10</td>\n",
       "      <td>1.814947e+06</td>\n",
       "      <td>benign</td>\n",
       "    </tr>\n",
       "    <tr>\n",
       "      <th>4</th>\n",
       "      <td>24.000000</td>\n",
       "      <td>6</td>\n",
       "      <td>180.875</td>\n",
       "      <td>97.070372</td>\n",
       "      <td>0.0</td>\n",
       "      <td>0.0</td>\n",
       "      <td>0.0</td>\n",
       "      <td>0.000000</td>\n",
       "      <td>0.700195</td>\n",
       "      <td>0.0</td>\n",
       "      <td>...</td>\n",
       "      <td>60</td>\n",
       "      <td>66</td>\n",
       "      <td>134</td>\n",
       "      <td>134.000</td>\n",
       "      <td>135.292276</td>\n",
       "      <td>134.000</td>\n",
       "      <td>0.010300</td>\n",
       "      <td>10</td>\n",
       "      <td>1.830400e+04</td>\n",
       "      <td>benign</td>\n",
       "    </tr>\n",
       "    <tr>\n",
       "      <th>...</th>\n",
       "      <td>...</td>\n",
       "      <td>...</td>\n",
       "      <td>...</td>\n",
       "      <td>...</td>\n",
       "      <td>...</td>\n",
       "      <td>...</td>\n",
       "      <td>...</td>\n",
       "      <td>...</td>\n",
       "      <td>...</td>\n",
       "      <td>...</td>\n",
       "      <td>...</td>\n",
       "      <td>...</td>\n",
       "      <td>...</td>\n",
       "      <td>...</td>\n",
       "      <td>...</td>\n",
       "      <td>...</td>\n",
       "      <td>...</td>\n",
       "      <td>...</td>\n",
       "      <td>...</td>\n",
       "      <td>...</td>\n",
       "      <td>...</td>\n",
       "    </tr>\n",
       "    <tr>\n",
       "      <th>1098186</th>\n",
       "      <td>29.593750</td>\n",
       "      <td>6</td>\n",
       "      <td>87.625</td>\n",
       "      <td>7986.108149</td>\n",
       "      <td>0.0</td>\n",
       "      <td>0.0</td>\n",
       "      <td>0.0</td>\n",
       "      <td>0.000000</td>\n",
       "      <td>0.899902</td>\n",
       "      <td>0.0</td>\n",
       "      <td>...</td>\n",
       "      <td>22</td>\n",
       "      <td>60</td>\n",
       "      <td>42</td>\n",
       "      <td>1461.000</td>\n",
       "      <td>1472.146747</td>\n",
       "      <td>1461.000</td>\n",
       "      <td>0.000125</td>\n",
       "      <td>10</td>\n",
       "      <td>2.167216e+06</td>\n",
       "      <td>benign</td>\n",
       "    </tr>\n",
       "    <tr>\n",
       "      <th>1098187</th>\n",
       "      <td>32.000000</td>\n",
       "      <td>6</td>\n",
       "      <td>99.375</td>\n",
       "      <td>6911.029824</td>\n",
       "      <td>0.0</td>\n",
       "      <td>0.0</td>\n",
       "      <td>0.0</td>\n",
       "      <td>0.000000</td>\n",
       "      <td>1.000000</td>\n",
       "      <td>0.0</td>\n",
       "      <td>...</td>\n",
       "      <td>28</td>\n",
       "      <td>66</td>\n",
       "      <td>18</td>\n",
       "      <td>1462.000</td>\n",
       "      <td>1974.242133</td>\n",
       "      <td>1462.000</td>\n",
       "      <td>0.000145</td>\n",
       "      <td>10</td>\n",
       "      <td>3.897632e+06</td>\n",
       "      <td>benign</td>\n",
       "    </tr>\n",
       "    <tr>\n",
       "      <th>1098188</th>\n",
       "      <td>29.593750</td>\n",
       "      <td>6</td>\n",
       "      <td>93.500</td>\n",
       "      <td>9852.722575</td>\n",
       "      <td>0.0</td>\n",
       "      <td>0.0</td>\n",
       "      <td>0.0</td>\n",
       "      <td>0.000000</td>\n",
       "      <td>0.899902</td>\n",
       "      <td>0.0</td>\n",
       "      <td>...</td>\n",
       "      <td>46</td>\n",
       "      <td>60</td>\n",
       "      <td>42</td>\n",
       "      <td>1182.000</td>\n",
       "      <td>1442.300154</td>\n",
       "      <td>1182.000</td>\n",
       "      <td>0.000102</td>\n",
       "      <td>10</td>\n",
       "      <td>2.080230e+06</td>\n",
       "      <td>benign</td>\n",
       "    </tr>\n",
       "    <tr>\n",
       "      <th>1098189</th>\n",
       "      <td>32.000000</td>\n",
       "      <td>6</td>\n",
       "      <td>99.375</td>\n",
       "      <td>8305.552475</td>\n",
       "      <td>0.0</td>\n",
       "      <td>0.0</td>\n",
       "      <td>0.0</td>\n",
       "      <td>0.000000</td>\n",
       "      <td>1.000000</td>\n",
       "      <td>0.0</td>\n",
       "      <td>...</td>\n",
       "      <td>28</td>\n",
       "      <td>66</td>\n",
       "      <td>18</td>\n",
       "      <td>1462.000</td>\n",
       "      <td>1974.242133</td>\n",
       "      <td>1462.000</td>\n",
       "      <td>0.000135</td>\n",
       "      <td>10</td>\n",
       "      <td>3.897632e+06</td>\n",
       "      <td>benign</td>\n",
       "    </tr>\n",
       "    <tr>\n",
       "      <th>1098190</th>\n",
       "      <td>32.000000</td>\n",
       "      <td>6</td>\n",
       "      <td>64.000</td>\n",
       "      <td>9811.237427</td>\n",
       "      <td>0.0</td>\n",
       "      <td>0.0</td>\n",
       "      <td>0.0</td>\n",
       "      <td>0.000000</td>\n",
       "      <td>1.000000</td>\n",
       "      <td>0.0</td>\n",
       "      <td>...</td>\n",
       "      <td>84</td>\n",
       "      <td>42</td>\n",
       "      <td>42</td>\n",
       "      <td>2858.000</td>\n",
       "      <td>0.000000</td>\n",
       "      <td>2858.000</td>\n",
       "      <td>0.000152</td>\n",
       "      <td>2</td>\n",
       "      <td>0.000000e+00</td>\n",
       "      <td>benign</td>\n",
       "    </tr>\n",
       "  </tbody>\n",
       "</table>\n",
       "<p>1098191 rows × 40 columns</p>\n",
       "</div>"
      ],
      "text/plain": [
       "         header_length  protocol_type  time_to_live         rate  \\\n",
       "0            29.593750              6       114.125    68.738911   \n",
       "1            24.796875              6       149.125    47.628610   \n",
       "2            17.593750              6       156.125    35.455709   \n",
       "3            24.796875              6        91.125    68.694442   \n",
       "4            24.000000              6       180.875    97.070372   \n",
       "...                ...            ...           ...          ...   \n",
       "1098186      29.593750              6        87.625  7986.108149   \n",
       "1098187      32.000000              6        99.375  6911.029824   \n",
       "1098188      29.593750              6        93.500  9852.722575   \n",
       "1098189      32.000000              6        99.375  8305.552475   \n",
       "1098190      32.000000              6        64.000  9811.237427   \n",
       "\n",
       "         fin_flag_number  syn_flag_number  rst_flag_number  psh_flag_number  \\\n",
       "0                    0.0              0.0              0.0         0.099976   \n",
       "1                    0.0              0.0              0.0         0.199951   \n",
       "2                    0.0              0.0              0.0         0.300049   \n",
       "3                    0.0              0.0              0.0         0.099976   \n",
       "4                    0.0              0.0              0.0         0.000000   \n",
       "...                  ...              ...              ...              ...   \n",
       "1098186              0.0              0.0              0.0         0.000000   \n",
       "1098187              0.0              0.0              0.0         0.000000   \n",
       "1098188              0.0              0.0              0.0         0.000000   \n",
       "1098189              0.0              0.0              0.0         0.000000   \n",
       "1098190              0.0              0.0              0.0         0.000000   \n",
       "\n",
       "         ack_flag_number  ece_flag_number  ...  tot_sum  min  max       avg  \\\n",
       "0               0.899902              0.0  ...        0   66  234   947.000   \n",
       "1               0.700195              0.0  ...      181   66   89   146.125   \n",
       "2               0.600098              0.0  ...      163   60  234   323.500   \n",
       "3               0.700195              0.0  ...      192   66   58  1222.000   \n",
       "4               0.700195              0.0  ...       60   66  134   134.000   \n",
       "...                  ...              ...  ...      ...  ...  ...       ...   \n",
       "1098186         0.899902              0.0  ...       22   60   42  1461.000   \n",
       "1098187         1.000000              0.0  ...       28   66   18  1462.000   \n",
       "1098188         0.899902              0.0  ...       46   60   42  1182.000   \n",
       "1098189         1.000000              0.0  ...       28   66   18  1462.000   \n",
       "1098190         1.000000              0.0  ...       84   42   42  2858.000   \n",
       "\n",
       "                 std  tot_size       iat  number      variance   label  \n",
       "0         706.044506   947.000  0.014549      10  4.984988e+05  benign  \n",
       "1         114.666134   146.125  0.021088      10  1.314832e+04  benign  \n",
       "2         434.414868   323.500  0.028641      10  1.887163e+05  benign  \n",
       "3        1347.199581  1222.000  0.014748      10  1.814947e+06  benign  \n",
       "4         135.292276   134.000  0.010300      10  1.830400e+04  benign  \n",
       "...              ...       ...       ...     ...           ...     ...  \n",
       "1098186  1472.146747  1461.000  0.000125      10  2.167216e+06  benign  \n",
       "1098187  1974.242133  1462.000  0.000145      10  3.897632e+06  benign  \n",
       "1098188  1442.300154  1182.000  0.000102      10  2.080230e+06  benign  \n",
       "1098189  1974.242133  1462.000  0.000135      10  3.897632e+06  benign  \n",
       "1098190     0.000000  2858.000  0.000152       2  0.000000e+00  benign  \n",
       "\n",
       "[1098191 rows x 40 columns]"
      ]
     },
     "execution_count": 26,
     "metadata": {},
     "output_type": "execute_result"
    }
   ],
   "source": [
    "df_benign_optimized, optimized_dtypes = calcular_economia_memoria(df_benign)\n",
    "df_benign_optimized"
   ]
  },
  {
   "cell_type": "markdown",
   "id": "43113bad-39e6-4a3f-96ce-615ca6908cb1",
   "metadata": {},
   "source": [
    "---"
   ]
  },
  {
   "cell_type": "markdown",
   "id": "d357f3e4-1cbe-4e4f-9b04-2fec220a054a",
   "metadata": {},
   "source": [
    "### Dados Malignos"
   ]
  },
  {
   "cell_type": "code",
   "execution_count": 27,
   "id": "eca89554-d634-4a8a-914c-17dd8baf1532",
   "metadata": {
    "execution": {
     "iopub.execute_input": "2025-02-25T23:31:13.978748Z",
     "iopub.status.busy": "2025-02-25T23:31:13.978570Z",
     "iopub.status.idle": "2025-02-25T23:31:13.981497Z",
     "shell.execute_reply": "2025-02-25T23:31:13.980908Z",
     "shell.execute_reply.started": "2025-02-25T23:31:13.978737Z"
    }
   },
   "outputs": [],
   "source": [
    "attacks_paths = {}\n",
    "for attack in attacks.keys():\n",
    "    attacks_paths[attack] = PATH / attack"
   ]
  },
  {
   "cell_type": "code",
   "execution_count": 28,
   "id": "efdcd097-dc58-4b59-ab5d-670aa1e86a1c",
   "metadata": {
    "execution": {
     "iopub.execute_input": "2025-02-25T23:31:13.982242Z",
     "iopub.status.busy": "2025-02-25T23:31:13.982039Z",
     "iopub.status.idle": "2025-02-25T23:31:14.466123Z",
     "shell.execute_reply": "2025-02-25T23:31:14.465687Z",
     "shell.execute_reply.started": "2025-02-25T23:31:13.982231Z"
    }
   },
   "outputs": [],
   "source": [
    "dataframes = []\n",
    "for attack_name, dir_path in attacks_paths.items():\n",
    "    if dir_path.exists() and dir_path.is_dir():\n",
    "        for file_path in dir_path.glob(\"*.csv\"):\n",
    "            df = pd.read_csv(file_path, engine='pyarrow')\n",
    "            df['label'] = attack_name\n",
    "            dataframes.append(df)\n",
    "    else:\n",
    "        print(f\"Diretório {dir_path} não existe.\")"
   ]
  },
  {
   "cell_type": "code",
   "execution_count": 29,
   "id": "9d27d814-a322-4817-865b-020ee2d0a4c4",
   "metadata": {
    "execution": {
     "iopub.execute_input": "2025-02-25T23:31:14.467213Z",
     "iopub.status.busy": "2025-02-25T23:31:14.466703Z",
     "iopub.status.idle": "2025-02-25T23:31:14.893192Z",
     "shell.execute_reply": "2025-02-25T23:31:14.892815Z",
     "shell.execute_reply.started": "2025-02-25T23:31:14.467200Z"
    }
   },
   "outputs": [
    {
     "data": {
      "text/html": [
       "<div>\n",
       "<style scoped>\n",
       "    .dataframe tbody tr th:only-of-type {\n",
       "        vertical-align: middle;\n",
       "    }\n",
       "\n",
       "    .dataframe tbody tr th {\n",
       "        vertical-align: top;\n",
       "    }\n",
       "\n",
       "    .dataframe thead th {\n",
       "        text-align: right;\n",
       "    }\n",
       "</style>\n",
       "<table border=\"1\" class=\"dataframe\">\n",
       "  <thead>\n",
       "    <tr style=\"text-align: right;\">\n",
       "      <th></th>\n",
       "      <th>Header_Length</th>\n",
       "      <th>Protocol Type</th>\n",
       "      <th>Time_To_Live</th>\n",
       "      <th>Rate</th>\n",
       "      <th>fin_flag_number</th>\n",
       "      <th>syn_flag_number</th>\n",
       "      <th>rst_flag_number</th>\n",
       "      <th>psh_flag_number</th>\n",
       "      <th>ack_flag_number</th>\n",
       "      <th>ece_flag_number</th>\n",
       "      <th>...</th>\n",
       "      <th>Tot sum</th>\n",
       "      <th>Min</th>\n",
       "      <th>Max</th>\n",
       "      <th>AVG</th>\n",
       "      <th>Std</th>\n",
       "      <th>Tot size</th>\n",
       "      <th>IAT</th>\n",
       "      <th>Number</th>\n",
       "      <th>Variance</th>\n",
       "      <th>label</th>\n",
       "    </tr>\n",
       "  </thead>\n",
       "  <tbody>\n",
       "    <tr>\n",
       "      <th>0</th>\n",
       "      <td>14.8</td>\n",
       "      <td>6</td>\n",
       "      <td>78.6</td>\n",
       "      <td>20.155562</td>\n",
       "      <td>0.0</td>\n",
       "      <td>0.0</td>\n",
       "      <td>0.1</td>\n",
       "      <td>0.200</td>\n",
       "      <td>0.5</td>\n",
       "      <td>0.0</td>\n",
       "      <td>...</td>\n",
       "      <td>1121</td>\n",
       "      <td>60</td>\n",
       "      <td>218</td>\n",
       "      <td>112.1</td>\n",
       "      <td>63.715426</td>\n",
       "      <td>112.1</td>\n",
       "      <td>0.049614</td>\n",
       "      <td>10</td>\n",
       "      <td>4.059656e+03</td>\n",
       "      <td>Uploading_Attack</td>\n",
       "    </tr>\n",
       "    <tr>\n",
       "      <th>1</th>\n",
       "      <td>21.6</td>\n",
       "      <td>6</td>\n",
       "      <td>119.1</td>\n",
       "      <td>27.499197</td>\n",
       "      <td>0.0</td>\n",
       "      <td>0.0</td>\n",
       "      <td>0.0</td>\n",
       "      <td>0.100</td>\n",
       "      <td>0.6</td>\n",
       "      <td>0.0</td>\n",
       "      <td>...</td>\n",
       "      <td>1566</td>\n",
       "      <td>60</td>\n",
       "      <td>650</td>\n",
       "      <td>156.6</td>\n",
       "      <td>183.739066</td>\n",
       "      <td>156.6</td>\n",
       "      <td>0.041712</td>\n",
       "      <td>10</td>\n",
       "      <td>3.376004e+04</td>\n",
       "      <td>Uploading_Attack</td>\n",
       "    </tr>\n",
       "    <tr>\n",
       "      <th>2</th>\n",
       "      <td>19.2</td>\n",
       "      <td>6</td>\n",
       "      <td>111.2</td>\n",
       "      <td>25.816773</td>\n",
       "      <td>0.0</td>\n",
       "      <td>0.0</td>\n",
       "      <td>0.0</td>\n",
       "      <td>0.400</td>\n",
       "      <td>0.5</td>\n",
       "      <td>0.0</td>\n",
       "      <td>...</td>\n",
       "      <td>2897</td>\n",
       "      <td>60</td>\n",
       "      <td>1514</td>\n",
       "      <td>289.7</td>\n",
       "      <td>436.771247</td>\n",
       "      <td>289.7</td>\n",
       "      <td>0.039537</td>\n",
       "      <td>10</td>\n",
       "      <td>1.907691e+05</td>\n",
       "      <td>Uploading_Attack</td>\n",
       "    </tr>\n",
       "    <tr>\n",
       "      <th>3</th>\n",
       "      <td>15.6</td>\n",
       "      <td>6</td>\n",
       "      <td>108.3</td>\n",
       "      <td>28.561883</td>\n",
       "      <td>0.0</td>\n",
       "      <td>0.0</td>\n",
       "      <td>0.0</td>\n",
       "      <td>0.200</td>\n",
       "      <td>0.5</td>\n",
       "      <td>0.0</td>\n",
       "      <td>...</td>\n",
       "      <td>1682</td>\n",
       "      <td>60</td>\n",
       "      <td>480</td>\n",
       "      <td>168.2</td>\n",
       "      <td>126.905739</td>\n",
       "      <td>168.2</td>\n",
       "      <td>0.036588</td>\n",
       "      <td>10</td>\n",
       "      <td>1.610507e+04</td>\n",
       "      <td>Uploading_Attack</td>\n",
       "    </tr>\n",
       "    <tr>\n",
       "      <th>4</th>\n",
       "      <td>18.8</td>\n",
       "      <td>6</td>\n",
       "      <td>102.3</td>\n",
       "      <td>567.020048</td>\n",
       "      <td>0.0</td>\n",
       "      <td>0.0</td>\n",
       "      <td>0.0</td>\n",
       "      <td>0.500</td>\n",
       "      <td>0.9</td>\n",
       "      <td>0.0</td>\n",
       "      <td>...</td>\n",
       "      <td>1337</td>\n",
       "      <td>60</td>\n",
       "      <td>492</td>\n",
       "      <td>133.7</td>\n",
       "      <td>141.198088</td>\n",
       "      <td>133.7</td>\n",
       "      <td>0.001778</td>\n",
       "      <td>10</td>\n",
       "      <td>1.993690e+04</td>\n",
       "      <td>Uploading_Attack</td>\n",
       "    </tr>\n",
       "    <tr>\n",
       "      <th>...</th>\n",
       "      <td>...</td>\n",
       "      <td>...</td>\n",
       "      <td>...</td>\n",
       "      <td>...</td>\n",
       "      <td>...</td>\n",
       "      <td>...</td>\n",
       "      <td>...</td>\n",
       "      <td>...</td>\n",
       "      <td>...</td>\n",
       "      <td>...</td>\n",
       "      <td>...</td>\n",
       "      <td>...</td>\n",
       "      <td>...</td>\n",
       "      <td>...</td>\n",
       "      <td>...</td>\n",
       "      <td>...</td>\n",
       "      <td>...</td>\n",
       "      <td>...</td>\n",
       "      <td>...</td>\n",
       "      <td>...</td>\n",
       "      <td>...</td>\n",
       "    </tr>\n",
       "    <tr>\n",
       "      <th>1214880</th>\n",
       "      <td>32.0</td>\n",
       "      <td>6</td>\n",
       "      <td>56.0</td>\n",
       "      <td>4262.504065</td>\n",
       "      <td>0.0</td>\n",
       "      <td>0.0</td>\n",
       "      <td>0.0</td>\n",
       "      <td>0.400</td>\n",
       "      <td>1.0</td>\n",
       "      <td>0.0</td>\n",
       "      <td>...</td>\n",
       "      <td>32516</td>\n",
       "      <td>1514</td>\n",
       "      <td>4410</td>\n",
       "      <td>3251.6</td>\n",
       "      <td>1142.197803</td>\n",
       "      <td>3251.6</td>\n",
       "      <td>0.000269</td>\n",
       "      <td>10</td>\n",
       "      <td>1.304616e+06</td>\n",
       "      <td>MITM-ArpSpoofing</td>\n",
       "    </tr>\n",
       "    <tr>\n",
       "      <th>1214881</th>\n",
       "      <td>32.0</td>\n",
       "      <td>6</td>\n",
       "      <td>56.0</td>\n",
       "      <td>4752.752408</td>\n",
       "      <td>0.0</td>\n",
       "      <td>0.0</td>\n",
       "      <td>0.0</td>\n",
       "      <td>0.400</td>\n",
       "      <td>1.0</td>\n",
       "      <td>0.0</td>\n",
       "      <td>...</td>\n",
       "      <td>28172</td>\n",
       "      <td>1514</td>\n",
       "      <td>4410</td>\n",
       "      <td>2817.2</td>\n",
       "      <td>1068.428212</td>\n",
       "      <td>2817.2</td>\n",
       "      <td>0.000246</td>\n",
       "      <td>10</td>\n",
       "      <td>1.141539e+06</td>\n",
       "      <td>MITM-ArpSpoofing</td>\n",
       "    </tr>\n",
       "    <tr>\n",
       "      <th>1214882</th>\n",
       "      <td>32.0</td>\n",
       "      <td>6</td>\n",
       "      <td>57.6</td>\n",
       "      <td>1165.764474</td>\n",
       "      <td>0.0</td>\n",
       "      <td>0.0</td>\n",
       "      <td>0.0</td>\n",
       "      <td>0.400</td>\n",
       "      <td>1.0</td>\n",
       "      <td>0.0</td>\n",
       "      <td>...</td>\n",
       "      <td>23828</td>\n",
       "      <td>66</td>\n",
       "      <td>4410</td>\n",
       "      <td>2382.8</td>\n",
       "      <td>1556.553229</td>\n",
       "      <td>2382.8</td>\n",
       "      <td>0.000881</td>\n",
       "      <td>10</td>\n",
       "      <td>2.422858e+06</td>\n",
       "      <td>MITM-ArpSpoofing</td>\n",
       "    </tr>\n",
       "    <tr>\n",
       "      <th>1214883</th>\n",
       "      <td>32.0</td>\n",
       "      <td>6</td>\n",
       "      <td>64.0</td>\n",
       "      <td>346636.694215</td>\n",
       "      <td>0.0</td>\n",
       "      <td>0.0</td>\n",
       "      <td>0.0</td>\n",
       "      <td>0.000</td>\n",
       "      <td>1.0</td>\n",
       "      <td>0.0</td>\n",
       "      <td>...</td>\n",
       "      <td>660</td>\n",
       "      <td>66</td>\n",
       "      <td>66</td>\n",
       "      <td>66.0</td>\n",
       "      <td>0.000000</td>\n",
       "      <td>66.0</td>\n",
       "      <td>0.000003</td>\n",
       "      <td>10</td>\n",
       "      <td>0.000000e+00</td>\n",
       "      <td>MITM-ArpSpoofing</td>\n",
       "    </tr>\n",
       "    <tr>\n",
       "      <th>1214884</th>\n",
       "      <td>32.0</td>\n",
       "      <td>6</td>\n",
       "      <td>56.0</td>\n",
       "      <td>3902.585718</td>\n",
       "      <td>0.0</td>\n",
       "      <td>0.0</td>\n",
       "      <td>0.0</td>\n",
       "      <td>0.375</td>\n",
       "      <td>1.0</td>\n",
       "      <td>0.0</td>\n",
       "      <td>...</td>\n",
       "      <td>28040</td>\n",
       "      <td>1514</td>\n",
       "      <td>4410</td>\n",
       "      <td>3505.0</td>\n",
       "      <td>1077.346476</td>\n",
       "      <td>3505.0</td>\n",
       "      <td>0.000415</td>\n",
       "      <td>8</td>\n",
       "      <td>1.160675e+06</td>\n",
       "      <td>MITM-ArpSpoofing</td>\n",
       "    </tr>\n",
       "  </tbody>\n",
       "</table>\n",
       "<p>1214885 rows × 40 columns</p>\n",
       "</div>"
      ],
      "text/plain": [
       "         Header_Length  Protocol Type  Time_To_Live           Rate  \\\n",
       "0                 14.8              6          78.6      20.155562   \n",
       "1                 21.6              6         119.1      27.499197   \n",
       "2                 19.2              6         111.2      25.816773   \n",
       "3                 15.6              6         108.3      28.561883   \n",
       "4                 18.8              6         102.3     567.020048   \n",
       "...                ...            ...           ...            ...   \n",
       "1214880           32.0              6          56.0    4262.504065   \n",
       "1214881           32.0              6          56.0    4752.752408   \n",
       "1214882           32.0              6          57.6    1165.764474   \n",
       "1214883           32.0              6          64.0  346636.694215   \n",
       "1214884           32.0              6          56.0    3902.585718   \n",
       "\n",
       "         fin_flag_number  syn_flag_number  rst_flag_number  psh_flag_number  \\\n",
       "0                    0.0              0.0              0.1            0.200   \n",
       "1                    0.0              0.0              0.0            0.100   \n",
       "2                    0.0              0.0              0.0            0.400   \n",
       "3                    0.0              0.0              0.0            0.200   \n",
       "4                    0.0              0.0              0.0            0.500   \n",
       "...                  ...              ...              ...              ...   \n",
       "1214880              0.0              0.0              0.0            0.400   \n",
       "1214881              0.0              0.0              0.0            0.400   \n",
       "1214882              0.0              0.0              0.0            0.400   \n",
       "1214883              0.0              0.0              0.0            0.000   \n",
       "1214884              0.0              0.0              0.0            0.375   \n",
       "\n",
       "         ack_flag_number  ece_flag_number  ...  Tot sum   Min   Max     AVG  \\\n",
       "0                    0.5              0.0  ...     1121    60   218   112.1   \n",
       "1                    0.6              0.0  ...     1566    60   650   156.6   \n",
       "2                    0.5              0.0  ...     2897    60  1514   289.7   \n",
       "3                    0.5              0.0  ...     1682    60   480   168.2   \n",
       "4                    0.9              0.0  ...     1337    60   492   133.7   \n",
       "...                  ...              ...  ...      ...   ...   ...     ...   \n",
       "1214880              1.0              0.0  ...    32516  1514  4410  3251.6   \n",
       "1214881              1.0              0.0  ...    28172  1514  4410  2817.2   \n",
       "1214882              1.0              0.0  ...    23828    66  4410  2382.8   \n",
       "1214883              1.0              0.0  ...      660    66    66    66.0   \n",
       "1214884              1.0              0.0  ...    28040  1514  4410  3505.0   \n",
       "\n",
       "                 Std  Tot size       IAT  Number      Variance  \\\n",
       "0          63.715426     112.1  0.049614      10  4.059656e+03   \n",
       "1         183.739066     156.6  0.041712      10  3.376004e+04   \n",
       "2         436.771247     289.7  0.039537      10  1.907691e+05   \n",
       "3         126.905739     168.2  0.036588      10  1.610507e+04   \n",
       "4         141.198088     133.7  0.001778      10  1.993690e+04   \n",
       "...              ...       ...       ...     ...           ...   \n",
       "1214880  1142.197803    3251.6  0.000269      10  1.304616e+06   \n",
       "1214881  1068.428212    2817.2  0.000246      10  1.141539e+06   \n",
       "1214882  1556.553229    2382.8  0.000881      10  2.422858e+06   \n",
       "1214883     0.000000      66.0  0.000003      10  0.000000e+00   \n",
       "1214884  1077.346476    3505.0  0.000415       8  1.160675e+06   \n",
       "\n",
       "                    label  \n",
       "0        Uploading_Attack  \n",
       "1        Uploading_Attack  \n",
       "2        Uploading_Attack  \n",
       "3        Uploading_Attack  \n",
       "4        Uploading_Attack  \n",
       "...                   ...  \n",
       "1214880  MITM-ArpSpoofing  \n",
       "1214881  MITM-ArpSpoofing  \n",
       "1214882  MITM-ArpSpoofing  \n",
       "1214883  MITM-ArpSpoofing  \n",
       "1214884  MITM-ArpSpoofing  \n",
       "\n",
       "[1214885 rows x 40 columns]"
      ]
     },
     "execution_count": 29,
     "metadata": {},
     "output_type": "execute_result"
    }
   ],
   "source": [
    "df_attack = pd.concat(dataframes, ignore_index=True)"
   ]
  },
  {
   "cell_type": "code",
   "execution_count": 30,
   "id": "2ee2d3fa-3156-4be1-854d-e857af119db7",
   "metadata": {
    "execution": {
     "iopub.execute_input": "2025-02-25T23:31:14.893790Z",
     "iopub.status.busy": "2025-02-25T23:31:14.893621Z",
     "iopub.status.idle": "2025-02-25T23:31:14.935354Z",
     "shell.execute_reply": "2025-02-25T23:31:14.934905Z",
     "shell.execute_reply.started": "2025-02-25T23:31:14.893779Z"
    }
   },
   "outputs": [
    {
     "data": {
      "text/plain": [
       "label\n",
       "VulnerabilityScan       373351\n",
       "MITM-ArpSpoofing        307560\n",
       "DNS_Spoofing            178898\n",
       "Recon-HostDiscovery     134378\n",
       "Recon-OSScan             98259\n",
       "Recon-PortScan           82284\n",
       "DictionaryBruteForce     13064\n",
       "BrowserHijacking          5859\n",
       "CommandInjection          5409\n",
       "SqlInjection              5245\n",
       "XSS                       3846\n",
       "Backdoor_Malware          3218\n",
       "Recon-PingSweep           2262\n",
       "Uploading_Attack          1252\n",
       "Name: count, dtype: int64"
      ]
     },
     "execution_count": 30,
     "metadata": {},
     "output_type": "execute_result"
    }
   ],
   "source": [
    "df_attack['label'].value_counts()"
   ]
  },
  {
   "cell_type": "code",
   "execution_count": 31,
   "id": "68db5117-4edb-40ae-95b0-1446b81f39ec",
   "metadata": {
    "execution": {
     "iopub.execute_input": "2025-02-25T23:31:14.935961Z",
     "iopub.status.busy": "2025-02-25T23:31:14.935817Z",
     "iopub.status.idle": "2025-02-25T23:31:15.172304Z",
     "shell.execute_reply": "2025-02-25T23:31:15.171870Z",
     "shell.execute_reply.started": "2025-02-25T23:31:14.935950Z"
    }
   },
   "outputs": [
    {
     "name": "stdout",
     "output_type": "stream",
     "text": [
      "<class 'pandas.core.frame.DataFrame'>\n",
      "RangeIndex: 1214885 entries, 0 to 1214884\n",
      "Data columns (total 40 columns):\n",
      " #   Column           Non-Null Count    Dtype  \n",
      "---  ------           --------------    -----  \n",
      " 0   Header_Length    1214885 non-null  float64\n",
      " 1   Protocol Type    1214885 non-null  int64  \n",
      " 2   Time_To_Live     1214885 non-null  float64\n",
      " 3   Rate             1214885 non-null  float64\n",
      " 4   fin_flag_number  1214885 non-null  float64\n",
      " 5   syn_flag_number  1214885 non-null  float64\n",
      " 6   rst_flag_number  1214885 non-null  float64\n",
      " 7   psh_flag_number  1214885 non-null  float64\n",
      " 8   ack_flag_number  1214885 non-null  float64\n",
      " 9   ece_flag_number  1214885 non-null  float64\n",
      " 10  cwr_flag_number  1214885 non-null  float64\n",
      " 11  ack_count        1214885 non-null  int64  \n",
      " 12  syn_count        1214885 non-null  int64  \n",
      " 13  fin_count        1214885 non-null  int64  \n",
      " 14  rst_count        1214885 non-null  int64  \n",
      " 15  HTTP             1214885 non-null  float64\n",
      " 16  HTTPS            1214885 non-null  float64\n",
      " 17  DNS              1214885 non-null  float64\n",
      " 18  Telnet           1214885 non-null  float64\n",
      " 19  SMTP             1214885 non-null  float64\n",
      " 20  SSH              1214885 non-null  float64\n",
      " 21  IRC              1214885 non-null  float64\n",
      " 22  TCP              1214885 non-null  float64\n",
      " 23  UDP              1214885 non-null  float64\n",
      " 24  DHCP             1214885 non-null  float64\n",
      " 25  ARP              1214885 non-null  float64\n",
      " 26  ICMP             1214885 non-null  float64\n",
      " 27  IGMP             1214885 non-null  float64\n",
      " 28  IPv              1214885 non-null  float64\n",
      " 29  LLC              1214885 non-null  float64\n",
      " 30  Tot sum          1214885 non-null  int64  \n",
      " 31  Min              1214885 non-null  int64  \n",
      " 32  Max              1214885 non-null  int64  \n",
      " 33  AVG              1214885 non-null  float64\n",
      " 34  Std              1214851 non-null  float64\n",
      " 35  Tot size         1214885 non-null  float64\n",
      " 36  IAT              1214885 non-null  float64\n",
      " 37  Number           1214885 non-null  int64  \n",
      " 38  Variance         1214851 non-null  float64\n",
      " 39  label            1214885 non-null  object \n",
      "dtypes: float64(30), int64(9), object(1)\n",
      "memory usage: 436.3 MB\n"
     ]
    }
   ],
   "source": [
    "df_attack.info(memory_usage='deep')"
   ]
  },
  {
   "cell_type": "markdown",
   "id": "fda9a851-b0d5-454f-a912-f74eb813e2a2",
   "metadata": {},
   "source": [
    "---"
   ]
  },
  {
   "cell_type": "markdown",
   "id": "8f5d9210-907f-471f-b9be-2e34b4ff457d",
   "metadata": {},
   "source": [
    "### Otimizando a Memória 2"
   ]
  },
  {
   "cell_type": "code",
   "execution_count": 32,
   "id": "fcaad782-cb77-4fe5-8a79-95aed1ff8d14",
   "metadata": {
    "execution": {
     "iopub.execute_input": "2025-02-25T23:31:15.173188Z",
     "iopub.status.busy": "2025-02-25T23:31:15.173016Z",
     "iopub.status.idle": "2025-02-25T23:31:15.792872Z",
     "shell.execute_reply": "2025-02-25T23:31:15.792362Z",
     "shell.execute_reply.started": "2025-02-25T23:31:15.173176Z"
    }
   },
   "outputs": [
    {
     "name": "stdout",
     "output_type": "stream",
     "text": [
      "Memória original: 436.30 MB\n",
      "Memória otimizada: 101.96 MB\n",
      "Memória economizada: 334.34 MB (76.6%)\n"
     ]
    },
    {
     "data": {
      "text/html": [
       "<div>\n",
       "<style scoped>\n",
       "    .dataframe tbody tr th:only-of-type {\n",
       "        vertical-align: middle;\n",
       "    }\n",
       "\n",
       "    .dataframe tbody tr th {\n",
       "        vertical-align: top;\n",
       "    }\n",
       "\n",
       "    .dataframe thead th {\n",
       "        text-align: right;\n",
       "    }\n",
       "</style>\n",
       "<table border=\"1\" class=\"dataframe\">\n",
       "  <thead>\n",
       "    <tr style=\"text-align: right;\">\n",
       "      <th></th>\n",
       "      <th>Header_Length</th>\n",
       "      <th>Protocol Type</th>\n",
       "      <th>Time_To_Live</th>\n",
       "      <th>Rate</th>\n",
       "      <th>fin_flag_number</th>\n",
       "      <th>syn_flag_number</th>\n",
       "      <th>rst_flag_number</th>\n",
       "      <th>psh_flag_number</th>\n",
       "      <th>ack_flag_number</th>\n",
       "      <th>ece_flag_number</th>\n",
       "      <th>...</th>\n",
       "      <th>Tot sum</th>\n",
       "      <th>Min</th>\n",
       "      <th>Max</th>\n",
       "      <th>AVG</th>\n",
       "      <th>Std</th>\n",
       "      <th>Tot size</th>\n",
       "      <th>IAT</th>\n",
       "      <th>Number</th>\n",
       "      <th>Variance</th>\n",
       "      <th>label</th>\n",
       "    </tr>\n",
       "  </thead>\n",
       "  <tbody>\n",
       "    <tr>\n",
       "      <th>0</th>\n",
       "      <td>14.796875</td>\n",
       "      <td>6</td>\n",
       "      <td>78.62500</td>\n",
       "      <td>20.155562</td>\n",
       "      <td>0.0</td>\n",
       "      <td>0.0</td>\n",
       "      <td>0.099976</td>\n",
       "      <td>0.199951</td>\n",
       "      <td>0.500000</td>\n",
       "      <td>0.0</td>\n",
       "      <td>...</td>\n",
       "      <td>97</td>\n",
       "      <td>60</td>\n",
       "      <td>218</td>\n",
       "      <td>112.125</td>\n",
       "      <td>63.715426</td>\n",
       "      <td>112.125</td>\n",
       "      <td>0.049622</td>\n",
       "      <td>10</td>\n",
       "      <td>4.059656e+03</td>\n",
       "      <td>Uploading_Attack</td>\n",
       "    </tr>\n",
       "    <tr>\n",
       "      <th>1</th>\n",
       "      <td>21.593750</td>\n",
       "      <td>6</td>\n",
       "      <td>119.12500</td>\n",
       "      <td>27.499197</td>\n",
       "      <td>0.0</td>\n",
       "      <td>0.0</td>\n",
       "      <td>0.000000</td>\n",
       "      <td>0.099976</td>\n",
       "      <td>0.600098</td>\n",
       "      <td>0.0</td>\n",
       "      <td>...</td>\n",
       "      <td>30</td>\n",
       "      <td>60</td>\n",
       "      <td>138</td>\n",
       "      <td>156.625</td>\n",
       "      <td>183.739066</td>\n",
       "      <td>156.625</td>\n",
       "      <td>0.041718</td>\n",
       "      <td>10</td>\n",
       "      <td>3.376004e+04</td>\n",
       "      <td>Uploading_Attack</td>\n",
       "    </tr>\n",
       "    <tr>\n",
       "      <th>2</th>\n",
       "      <td>19.203125</td>\n",
       "      <td>6</td>\n",
       "      <td>111.18750</td>\n",
       "      <td>25.816773</td>\n",
       "      <td>0.0</td>\n",
       "      <td>0.0</td>\n",
       "      <td>0.000000</td>\n",
       "      <td>0.399902</td>\n",
       "      <td>0.500000</td>\n",
       "      <td>0.0</td>\n",
       "      <td>...</td>\n",
       "      <td>81</td>\n",
       "      <td>60</td>\n",
       "      <td>234</td>\n",
       "      <td>289.750</td>\n",
       "      <td>436.771247</td>\n",
       "      <td>289.750</td>\n",
       "      <td>0.039551</td>\n",
       "      <td>10</td>\n",
       "      <td>1.907691e+05</td>\n",
       "      <td>Uploading_Attack</td>\n",
       "    </tr>\n",
       "    <tr>\n",
       "      <th>3</th>\n",
       "      <td>15.601562</td>\n",
       "      <td>6</td>\n",
       "      <td>108.31250</td>\n",
       "      <td>28.561883</td>\n",
       "      <td>0.0</td>\n",
       "      <td>0.0</td>\n",
       "      <td>0.000000</td>\n",
       "      <td>0.199951</td>\n",
       "      <td>0.500000</td>\n",
       "      <td>0.0</td>\n",
       "      <td>...</td>\n",
       "      <td>146</td>\n",
       "      <td>60</td>\n",
       "      <td>224</td>\n",
       "      <td>168.250</td>\n",
       "      <td>126.905739</td>\n",
       "      <td>168.250</td>\n",
       "      <td>0.036591</td>\n",
       "      <td>10</td>\n",
       "      <td>1.610507e+04</td>\n",
       "      <td>Uploading_Attack</td>\n",
       "    </tr>\n",
       "    <tr>\n",
       "      <th>4</th>\n",
       "      <td>18.796875</td>\n",
       "      <td>6</td>\n",
       "      <td>102.31250</td>\n",
       "      <td>567.020048</td>\n",
       "      <td>0.0</td>\n",
       "      <td>0.0</td>\n",
       "      <td>0.000000</td>\n",
       "      <td>0.500000</td>\n",
       "      <td>0.899902</td>\n",
       "      <td>0.0</td>\n",
       "      <td>...</td>\n",
       "      <td>57</td>\n",
       "      <td>60</td>\n",
       "      <td>236</td>\n",
       "      <td>133.750</td>\n",
       "      <td>141.198088</td>\n",
       "      <td>133.750</td>\n",
       "      <td>0.001778</td>\n",
       "      <td>10</td>\n",
       "      <td>1.993690e+04</td>\n",
       "      <td>Uploading_Attack</td>\n",
       "    </tr>\n",
       "    <tr>\n",
       "      <th>...</th>\n",
       "      <td>...</td>\n",
       "      <td>...</td>\n",
       "      <td>...</td>\n",
       "      <td>...</td>\n",
       "      <td>...</td>\n",
       "      <td>...</td>\n",
       "      <td>...</td>\n",
       "      <td>...</td>\n",
       "      <td>...</td>\n",
       "      <td>...</td>\n",
       "      <td>...</td>\n",
       "      <td>...</td>\n",
       "      <td>...</td>\n",
       "      <td>...</td>\n",
       "      <td>...</td>\n",
       "      <td>...</td>\n",
       "      <td>...</td>\n",
       "      <td>...</td>\n",
       "      <td>...</td>\n",
       "      <td>...</td>\n",
       "      <td>...</td>\n",
       "    </tr>\n",
       "    <tr>\n",
       "      <th>1214880</th>\n",
       "      <td>32.000000</td>\n",
       "      <td>6</td>\n",
       "      <td>56.00000</td>\n",
       "      <td>4262.504065</td>\n",
       "      <td>0.0</td>\n",
       "      <td>0.0</td>\n",
       "      <td>0.000000</td>\n",
       "      <td>0.399902</td>\n",
       "      <td>1.000000</td>\n",
       "      <td>0.0</td>\n",
       "      <td>...</td>\n",
       "      <td>4</td>\n",
       "      <td>234</td>\n",
       "      <td>58</td>\n",
       "      <td>3252.000</td>\n",
       "      <td>1142.197803</td>\n",
       "      <td>3252.000</td>\n",
       "      <td>0.000269</td>\n",
       "      <td>10</td>\n",
       "      <td>1.304616e+06</td>\n",
       "      <td>MITM-ArpSpoofing</td>\n",
       "    </tr>\n",
       "    <tr>\n",
       "      <th>1214881</th>\n",
       "      <td>32.000000</td>\n",
       "      <td>6</td>\n",
       "      <td>56.00000</td>\n",
       "      <td>4752.752408</td>\n",
       "      <td>0.0</td>\n",
       "      <td>0.0</td>\n",
       "      <td>0.000000</td>\n",
       "      <td>0.399902</td>\n",
       "      <td>1.000000</td>\n",
       "      <td>0.0</td>\n",
       "      <td>...</td>\n",
       "      <td>12</td>\n",
       "      <td>234</td>\n",
       "      <td>58</td>\n",
       "      <td>2818.000</td>\n",
       "      <td>1068.428212</td>\n",
       "      <td>2818.000</td>\n",
       "      <td>0.000246</td>\n",
       "      <td>10</td>\n",
       "      <td>1.141539e+06</td>\n",
       "      <td>MITM-ArpSpoofing</td>\n",
       "    </tr>\n",
       "    <tr>\n",
       "      <th>1214882</th>\n",
       "      <td>32.000000</td>\n",
       "      <td>6</td>\n",
       "      <td>57.59375</td>\n",
       "      <td>1165.764474</td>\n",
       "      <td>0.0</td>\n",
       "      <td>0.0</td>\n",
       "      <td>0.000000</td>\n",
       "      <td>0.399902</td>\n",
       "      <td>1.000000</td>\n",
       "      <td>0.0</td>\n",
       "      <td>...</td>\n",
       "      <td>20</td>\n",
       "      <td>66</td>\n",
       "      <td>58</td>\n",
       "      <td>2382.000</td>\n",
       "      <td>1556.553229</td>\n",
       "      <td>2382.000</td>\n",
       "      <td>0.000881</td>\n",
       "      <td>10</td>\n",
       "      <td>2.422858e+06</td>\n",
       "      <td>MITM-ArpSpoofing</td>\n",
       "    </tr>\n",
       "    <tr>\n",
       "      <th>1214883</th>\n",
       "      <td>32.000000</td>\n",
       "      <td>6</td>\n",
       "      <td>64.00000</td>\n",
       "      <td>346636.694215</td>\n",
       "      <td>0.0</td>\n",
       "      <td>0.0</td>\n",
       "      <td>0.000000</td>\n",
       "      <td>0.000000</td>\n",
       "      <td>1.000000</td>\n",
       "      <td>0.0</td>\n",
       "      <td>...</td>\n",
       "      <td>148</td>\n",
       "      <td>66</td>\n",
       "      <td>66</td>\n",
       "      <td>66.000</td>\n",
       "      <td>0.000000</td>\n",
       "      <td>66.000</td>\n",
       "      <td>0.000003</td>\n",
       "      <td>10</td>\n",
       "      <td>0.000000e+00</td>\n",
       "      <td>MITM-ArpSpoofing</td>\n",
       "    </tr>\n",
       "    <tr>\n",
       "      <th>1214884</th>\n",
       "      <td>32.000000</td>\n",
       "      <td>6</td>\n",
       "      <td>56.00000</td>\n",
       "      <td>3902.585718</td>\n",
       "      <td>0.0</td>\n",
       "      <td>0.0</td>\n",
       "      <td>0.000000</td>\n",
       "      <td>0.375000</td>\n",
       "      <td>1.000000</td>\n",
       "      <td>0.0</td>\n",
       "      <td>...</td>\n",
       "      <td>136</td>\n",
       "      <td>234</td>\n",
       "      <td>58</td>\n",
       "      <td>3504.000</td>\n",
       "      <td>1077.346476</td>\n",
       "      <td>3504.000</td>\n",
       "      <td>0.000415</td>\n",
       "      <td>8</td>\n",
       "      <td>1.160675e+06</td>\n",
       "      <td>MITM-ArpSpoofing</td>\n",
       "    </tr>\n",
       "  </tbody>\n",
       "</table>\n",
       "<p>1214885 rows × 40 columns</p>\n",
       "</div>"
      ],
      "text/plain": [
       "         Header_Length  Protocol Type  Time_To_Live           Rate  \\\n",
       "0            14.796875              6      78.62500      20.155562   \n",
       "1            21.593750              6     119.12500      27.499197   \n",
       "2            19.203125              6     111.18750      25.816773   \n",
       "3            15.601562              6     108.31250      28.561883   \n",
       "4            18.796875              6     102.31250     567.020048   \n",
       "...                ...            ...           ...            ...   \n",
       "1214880      32.000000              6      56.00000    4262.504065   \n",
       "1214881      32.000000              6      56.00000    4752.752408   \n",
       "1214882      32.000000              6      57.59375    1165.764474   \n",
       "1214883      32.000000              6      64.00000  346636.694215   \n",
       "1214884      32.000000              6      56.00000    3902.585718   \n",
       "\n",
       "         fin_flag_number  syn_flag_number  rst_flag_number  psh_flag_number  \\\n",
       "0                    0.0              0.0         0.099976         0.199951   \n",
       "1                    0.0              0.0         0.000000         0.099976   \n",
       "2                    0.0              0.0         0.000000         0.399902   \n",
       "3                    0.0              0.0         0.000000         0.199951   \n",
       "4                    0.0              0.0         0.000000         0.500000   \n",
       "...                  ...              ...              ...              ...   \n",
       "1214880              0.0              0.0         0.000000         0.399902   \n",
       "1214881              0.0              0.0         0.000000         0.399902   \n",
       "1214882              0.0              0.0         0.000000         0.399902   \n",
       "1214883              0.0              0.0         0.000000         0.000000   \n",
       "1214884              0.0              0.0         0.000000         0.375000   \n",
       "\n",
       "         ack_flag_number  ece_flag_number  ...  Tot sum  Min  Max       AVG  \\\n",
       "0               0.500000              0.0  ...       97   60  218   112.125   \n",
       "1               0.600098              0.0  ...       30   60  138   156.625   \n",
       "2               0.500000              0.0  ...       81   60  234   289.750   \n",
       "3               0.500000              0.0  ...      146   60  224   168.250   \n",
       "4               0.899902              0.0  ...       57   60  236   133.750   \n",
       "...                  ...              ...  ...      ...  ...  ...       ...   \n",
       "1214880         1.000000              0.0  ...        4  234   58  3252.000   \n",
       "1214881         1.000000              0.0  ...       12  234   58  2818.000   \n",
       "1214882         1.000000              0.0  ...       20   66   58  2382.000   \n",
       "1214883         1.000000              0.0  ...      148   66   66    66.000   \n",
       "1214884         1.000000              0.0  ...      136  234   58  3504.000   \n",
       "\n",
       "                 Std  Tot size       IAT  Number      Variance  \\\n",
       "0          63.715426   112.125  0.049622      10  4.059656e+03   \n",
       "1         183.739066   156.625  0.041718      10  3.376004e+04   \n",
       "2         436.771247   289.750  0.039551      10  1.907691e+05   \n",
       "3         126.905739   168.250  0.036591      10  1.610507e+04   \n",
       "4         141.198088   133.750  0.001778      10  1.993690e+04   \n",
       "...              ...       ...       ...     ...           ...   \n",
       "1214880  1142.197803  3252.000  0.000269      10  1.304616e+06   \n",
       "1214881  1068.428212  2818.000  0.000246      10  1.141539e+06   \n",
       "1214882  1556.553229  2382.000  0.000881      10  2.422858e+06   \n",
       "1214883     0.000000    66.000  0.000003      10  0.000000e+00   \n",
       "1214884  1077.346476  3504.000  0.000415       8  1.160675e+06   \n",
       "\n",
       "                    label  \n",
       "0        Uploading_Attack  \n",
       "1        Uploading_Attack  \n",
       "2        Uploading_Attack  \n",
       "3        Uploading_Attack  \n",
       "4        Uploading_Attack  \n",
       "...                   ...  \n",
       "1214880  MITM-ArpSpoofing  \n",
       "1214881  MITM-ArpSpoofing  \n",
       "1214882  MITM-ArpSpoofing  \n",
       "1214883  MITM-ArpSpoofing  \n",
       "1214884  MITM-ArpSpoofing  \n",
       "\n",
       "[1214885 rows x 40 columns]"
      ]
     },
     "execution_count": 32,
     "metadata": {},
     "output_type": "execute_result"
    }
   ],
   "source": [
    "df_attack_optimized, optimized_dtypes_attack = calcular_economia_memoria(df_attack)\n",
    "df_attack_optimized"
   ]
  },
  {
   "cell_type": "markdown",
   "id": "00bb2654-0bc3-4771-a5f5-d7147ef42059",
   "metadata": {},
   "source": [
    "---"
   ]
  },
  {
   "cell_type": "markdown",
   "id": "6c955c3f-bb6c-4aa9-b224-0b4c81be5153",
   "metadata": {},
   "source": [
    "## Salvando no disco"
   ]
  },
  {
   "cell_type": "markdown",
   "id": "6a23ca11-8973-4f0c-a9b5-8bf7f5a61905",
   "metadata": {},
   "source": [
    "Para evitar retrabalho, daqui pra frente usaremos apenas os DataFrames já preparados"
   ]
  },
  {
   "cell_type": "code",
   "execution_count": 33,
   "id": "36488430-b8b2-4def-bfad-c1a28794aebf",
   "metadata": {
    "execution": {
     "iopub.execute_input": "2025-02-25T23:31:15.793579Z",
     "iopub.status.busy": "2025-02-25T23:31:15.793412Z",
     "iopub.status.idle": "2025-02-25T23:31:16.351019Z",
     "shell.execute_reply": "2025-02-25T23:31:16.349497Z",
     "shell.execute_reply.started": "2025-02-25T23:31:15.793567Z"
    }
   },
   "outputs": [],
   "source": [
    "df_benign_optimized.to_pickle('pickles/df_benign.pkl')\n",
    "df_attack_optimized.to_pickle('pickles/df_attack.pkl')"
   ]
  },
  {
   "cell_type": "markdown",
   "id": "8789ac39-c370-4539-aa79-9fbe390a75e2",
   "metadata": {},
   "source": [
    "## Fim"
   ]
  }
 ],
 "metadata": {
  "kernelspec": {
   "display_name": "Python 3.13 (venv)",
   "language": "python",
   "name": "py313"
  },
  "language_info": {
   "codemirror_mode": {
    "name": "ipython",
    "version": 3
   },
   "file_extension": ".py",
   "mimetype": "text/x-python",
   "name": "python",
   "nbconvert_exporter": "python",
   "pygments_lexer": "ipython3",
   "version": "3.13.2"
  }
 },
 "nbformat": 4,
 "nbformat_minor": 5
}
